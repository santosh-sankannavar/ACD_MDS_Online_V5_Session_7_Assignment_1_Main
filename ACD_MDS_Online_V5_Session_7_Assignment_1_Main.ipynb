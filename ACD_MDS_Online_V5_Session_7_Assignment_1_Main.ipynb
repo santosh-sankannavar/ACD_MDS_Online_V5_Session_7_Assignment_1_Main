{
 "cells": [
  {
   "cell_type": "code",
   "execution_count": 6,
   "metadata": {},
   "outputs": [
    {
     "name": "stdout",
     "output_type": "stream",
     "text": [
      "Moving Average of [10,20,30,40,50,60,70,80,90,100] and Window Size of 4 :\n",
      "[25.0, 35.0, 45.0, 55.0, 65.0, 75.0, 85.0]\n",
      "Moving Average of [3, 5, 7, 2, 8, 10, 11, 65, 72, 81, 99, 100, 150] and Window Size of 3 :\n",
      "[5.0, 4.666666666666667, 5.666666666666667, 6.666666666666667, 9.666666666666666, 28.666666666666668, 49.333333333333336, 72.66666666666667, 84.0, 93.33333333333333, 116.33333333333333]\n"
     ]
    }
   ],
   "source": [
    "import numpy as np\n",
    "def window_stack(mylist,N):\n",
    "    cumsum, moving_aves = [0], []\n",
    "\n",
    "    for i, x in enumerate(mylist, 1):\n",
    "        cumsum.append(cumsum[i-1] + x)\n",
    "        if i>=N:\n",
    "            moving_ave = (cumsum[i] - cumsum[i-N])/N\n",
    "            #can do stuff with moving_ave here\n",
    "            moving_aves.append(moving_ave)\n",
    "    return moving_aves\n",
    "    \n",
    "print('Moving Average of [10,20,30,40,50,60,70,80,90,100] and Window Size of 4 :')\n",
    "print(window_stack([10,20,30,40,50,60,70,80,90,100],4))\n",
    "print('Moving Average of [3, 5, 7, 2, 8, 10, 11, 65, 72, 81, 99, 100, 150] and Window Size of 3 :')\n",
    "print(window_stack([3, 5, 7, 2, 8, 10, 11, 65, 72, 81, 99, 100, 150],3))\n"
   ]
  },
  {
   "cell_type": "markdown",
   "metadata": {},
   "source": [
    "### "
   ]
  },
  {
   "cell_type": "code",
   "execution_count": null,
   "metadata": {},
   "outputs": [],
   "source": []
  }
 ],
 "metadata": {
  "kernelspec": {
   "display_name": "Python 3",
   "language": "python",
   "name": "python3"
  },
  "language_info": {
   "codemirror_mode": {
    "name": "ipython",
    "version": 3
   },
   "file_extension": ".py",
   "mimetype": "text/x-python",
   "name": "python",
   "nbconvert_exporter": "python",
   "pygments_lexer": "ipython3",
   "version": "3.7.0"
  }
 },
 "nbformat": 4,
 "nbformat_minor": 2
}
